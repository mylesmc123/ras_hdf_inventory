{
 "cells": [
  {
   "cell_type": "code",
   "execution_count": 44,
   "metadata": {},
   "outputs": [],
   "source": [
    "import geopandas as gpd\n",
    "import folium"
   ]
  },
  {
   "cell_type": "code",
   "execution_count": 45,
   "metadata": {},
   "outputs": [],
   "source": [
    "wse_gdf = gpd.read_file('tempfiles/ras_wse.shp')\n",
    "wse_bounds = gpd.read_file('tempfiles/wse_max_boundary.shp')"
   ]
  },
  {
   "cell_type": "code",
   "execution_count": 46,
   "metadata": {},
   "outputs": [],
   "source": [
    "# Compute depth as [max_wse - min_elev]\n",
    "wse_gdf['depth_max'] = wse_gdf['wse_max'] - wse_gdf['min_elev']\n",
    "wse_gdf['depth_max'] = wse_gdf['depth_max'].round(2)"
   ]
  },
  {
   "cell_type": "code",
   "execution_count": 47,
   "metadata": {},
   "outputs": [],
   "source": [
    "f = folium.Figure(width=800, height=550)\n",
    "m = folium.Map(location=[30.87, -93.29],tiles='cartodbpositron', zoom_start=13, min_zoom = 10, max_zoom=15).add_to(f)"
   ]
  },
  {
   "cell_type": "code",
   "execution_count": 48,
   "metadata": {},
   "outputs": [],
   "source": [
    "wse_style = lambda x: {\n",
    "    \"color\": \"#E5214E\",\n",
    "    \"fill\": False,\n",
    "    \"opacity\": 0\n",
    "}\n",
    "\n",
    "bounds_style = lambda x: {\n",
    "    \"color\": \"#E5214E\",\n",
    "    \"fill\": False,\n",
    "    \"opacity\": 1\n",
    "}"
   ]
  },
  {
   "cell_type": "code",
   "execution_count": 49,
   "metadata": {},
   "outputs": [],
   "source": [
    "g = folium.GeoJson(data=wse_gdf, style_function=wse_style).add_to(m)\n",
    "folium.GeoJsonTooltip(\n",
    "    fields=[\"depth_max\", \"wse_max\", \"min_elev\"],\n",
    "    aliases=[\"Depth:\", \"WSE:\", \"Elevation:\"]\n",
    ").add_to(g)\n",
    "g2 = folium.GeoJson(data=wse_bounds, style_function=bounds_style).add_to(m)\n",
    "# folium.GeoJsonTooltip(fields=[\"dissolve\"]).add_to(g2)\n"
   ]
  },
  {
   "cell_type": "code",
   "execution_count": 50,
   "metadata": {},
   "outputs": [],
   "source": [
    "m.save('tempfiles/map.html')"
   ]
  }
 ],
 "metadata": {
  "kernelspec": {
   "display_name": "pyRAS",
   "language": "python",
   "name": "python3"
  },
  "language_info": {
   "codemirror_mode": {
    "name": "ipython",
    "version": 3
   },
   "file_extension": ".py",
   "mimetype": "text/x-python",
   "name": "python",
   "nbconvert_exporter": "python",
   "pygments_lexer": "ipython3",
   "version": "3.9.16"
  },
  "orig_nbformat": 4
 },
 "nbformat": 4,
 "nbformat_minor": 2
}
