{
 "cells": [
  {
   "cell_type": "code",
   "execution_count": null,
   "metadata": {},
   "outputs": [
    {
     "ename": "",
     "evalue": "",
     "output_type": "error",
     "traceback": [
      "\u001b[1;31mRunning cells with 'pyRAS' requires the ipykernel package.\n",
      "\u001b[1;31mRun the following command to install 'ipykernel' into the Python environment. \n",
      "\u001b[1;31mCommand: 'conda install -n pyRAS ipykernel --update-deps --force-reinstall'"
     ]
    }
   ],
   "source": [
    "import h5py, sys\n",
    "import numpy as np\n",
    "import pandas as pd\n",
    "import geopandas as gpd\n",
    "from shapely.geometry import Polygon, LineString, Point\n",
    "import folium\n",
    "\n",
    "# with h5py.File(r\"Z:\\OneDrive_1_11-9-2022\\HydraulicsBuild_MB.p02.hdf\",'r') as hf:\n",
    "#     dataset_names = list(hf.keys())\n",
    "    # with open('filename.txt', 'w') as f:\n",
    "    #     sys.stdout = f # Change the standard output to the file we created.\n",
    "    #     hf.visit(print)\n"
   ]
  },
  {
   "cell_type": "code",
   "execution_count": null,
   "metadata": {},
   "outputs": [
    {
     "ename": "",
     "evalue": "",
     "output_type": "error",
     "traceback": [
      "\u001b[1;31mRunning cells with 'pyRAS' requires the ipykernel package.\n",
      "\u001b[1;31mRun the following command to install 'ipykernel' into the Python environment. \n",
      "\u001b[1;31mCommand: 'conda install -n pyRAS ipykernel --update-deps --force-reinstall'"
     ]
    }
   ],
   "source": [
    "hf = h5py.File(r\"Z:\\OneDrive_1_11-9-2022\\HydraulicsBuild_MB.p02.hdf\",'r')\n"
   ]
  },
  {
   "cell_type": "code",
   "execution_count": null,
   "metadata": {},
   "outputs": [
    {
     "ename": "",
     "evalue": "",
     "output_type": "error",
     "traceback": [
      "\u001b[1;31mRunning cells with 'pyRAS' requires the ipykernel package.\n",
      "\u001b[1;31mRun the following command to install 'ipykernel' into the Python environment. \n",
      "\u001b[1;31mCommand: 'conda install -n pyRAS ipykernel --update-deps --force-reinstall'"
     ]
    }
   ],
   "source": [
    "poly_parts = hf['/Geometry/Cross Sections/Polyline Parts'][:,1]\n",
    "\n",
    "np.sum(poly_parts)"
   ]
  },
  {
   "cell_type": "code",
   "execution_count": null,
   "metadata": {},
   "outputs": [
    {
     "ename": "",
     "evalue": "",
     "output_type": "error",
     "traceback": [
      "\u001b[1;31mRunning cells with 'pyRAS' requires the ipykernel package.\n",
      "\u001b[1;31mRun the following command to install 'ipykernel' into the Python environment. \n",
      "\u001b[1;31mCommand: 'conda install -n pyRAS ipykernel --update-deps --force-reinstall'"
     ]
    }
   ],
   "source": [
    "# '/Geometry/Cross Sections/Polyline Parts' gives the number of vertices of each XSection.\n",
    "# Total parts across 490 XSections = 1237\n",
    "\n",
    "# Each Polyline Part has a coordinate in '/Geometry/Cross Sections/Polyline Points'/\n",
    "\n",
    "# Dataframe Dimensions (XSection Index, XSection Name, XSection Geometry)\n",
    "\n",
    "# XSection Name = '/Results/Unsteady/Geometry Info/Cross Section Only'\n"
   ]
  },
  {
   "cell_type": "code",
   "execution_count": null,
   "metadata": {},
   "outputs": [
    {
     "ename": "",
     "evalue": "",
     "output_type": "error",
     "traceback": [
      "\u001b[1;31mRunning cells with 'pyRAS' requires the ipykernel package.\n",
      "\u001b[1;31mRun the following command to install 'ipykernel' into the Python environment. \n",
      "\u001b[1;31mCommand: 'conda install -n pyRAS ipykernel --update-deps --force-reinstall'"
     ]
    }
   ],
   "source": [
    "# Xsection 0 = Old River Floodplain 60845.5, has 3 polyline parts, [(1360127.107, 2889357.839), (1359439.607, 2888899.506), (1356393.834, 2888635.568)] "
   ]
  },
  {
   "cell_type": "code",
   "execution_count": null,
   "metadata": {},
   "outputs": [
    {
     "ename": "",
     "evalue": "",
     "output_type": "error",
     "traceback": [
      "\u001b[1;31mRunning cells with 'pyRAS' requires the ipykernel package.\n",
      "\u001b[1;31mRun the following command to install 'ipykernel' into the Python environment. \n",
      "\u001b[1;31mCommand: 'conda install -n pyRAS ipykernel --update-deps --force-reinstall'"
     ]
    }
   ],
   "source": [
    "\n",
    "\n",
    "bounds = [(1360127.107, 2889357.839), (1359439.607, 2888899.506), (1356393.834, 2888635.568)]\n",
    "line_geom = LineString(bounds)\n",
    "polygon = gpd.GeoDataFrame(index=[0], geometry=[line_geom])\n",
    "polygon.crs = 'PROJCS[\"USA_Contiguous_Albers_Equal_Area_Conic_USGS_version\",GEOGCS[\"GCS_North_American_1983\",DATUM[\"D_North_American_1983\",SPHEROID[\"GRS_1980\",6378137.0,298.257222101]],PRIMEM[\"Greenwich\",0.0],UNIT[\"Degree\",0.0174532925199433]],PROJECTION[\"Albers\"],PARAMETER[\"false_easting\",0.0],PARAMETER[\"false_northing\",0.0],PARAMETER[\"central_meridian\",-96.0],PARAMETER[\"standard_parallel_1\",29.5],PARAMETER[\"standard_parallel_2\",45.5],PARAMETER[\"latitude_of_origin\",23.0],UNIT[\"Foot_US\",0.3048006096012192]]'\n"
   ]
  },
  {
   "cell_type": "code",
   "execution_count": null,
   "metadata": {},
   "outputs": [
    {
     "ename": "",
     "evalue": "",
     "output_type": "error",
     "traceback": [
      "\u001b[1;31mRunning cells with 'pyRAS' requires the ipykernel package.\n",
      "\u001b[1;31mRun the following command to install 'ipykernel' into the Python environment. \n",
      "\u001b[1;31mCommand: 'conda install -n pyRAS ipykernel --update-deps --force-reinstall'"
     ]
    }
   ],
   "source": [
    "import folium\n",
    "m = folium.Map([30.2, -90.3], zoom_start=8, tiles='cartodbdark_matter')\n",
    "folium.GeoJson(data=polygon, tooltip='Old River Floodplain 60845.5', ).add_to(m)\n",
    "# folium.LatLngPopup().add_to(m)"
   ]
  },
  {
   "cell_type": "code",
   "execution_count": null,
   "metadata": {},
   "outputs": [
    {
     "ename": "",
     "evalue": "",
     "output_type": "error",
     "traceback": [
      "\u001b[1;31mRunning cells with 'pyRAS' requires the ipykernel package.\n",
      "\u001b[1;31mRun the following command to install 'ipykernel' into the Python environment. \n",
      "\u001b[1;31mCommand: 'conda install -n pyRAS ipykernel --update-deps --force-reinstall'"
     ]
    }
   ],
   "source": [
    "m.save('geometry.html')"
   ]
  },
  {
   "cell_type": "code",
   "execution_count": null,
   "metadata": {},
   "outputs": [
    {
     "ename": "",
     "evalue": "",
     "output_type": "error",
     "traceback": [
      "\u001b[1;31mRunning cells with 'pyRAS' requires the ipykernel package.\n",
      "\u001b[1;31mRun the following command to install 'ipykernel' into the Python environment. \n",
      "\u001b[1;31mCommand: 'conda install -n pyRAS ipykernel --update-deps --force-reinstall'"
     ]
    }
   ],
   "source": []
  },
  {
   "cell_type": "code",
   "execution_count": null,
   "metadata": {},
   "outputs": [
    {
     "ename": "",
     "evalue": "",
     "output_type": "error",
     "traceback": [
      "\u001b[1;31mRunning cells with 'pyRAS' requires the ipykernel package.\n",
      "\u001b[1;31mRun the following command to install 'ipykernel' into the Python environment. \n",
      "\u001b[1;31mCommand: 'conda install -n pyRAS ipykernel --update-deps --force-reinstall'"
     ]
    }
   ],
   "source": [
    "# Dataframe Dimensions (XSection Index, XSection Name, XSection Geometry)\n",
    "df = pd.DataFrame()\n",
    "df['XS_Name'] = hf['/Results/Unsteady/Geometry Info/Cross Section Only'][:]\n",
    "df.iloc[0]\n",
    "# df['Geometry'] = df_geometry\n",
    "# df.to_csv('XS_Names.csv')"
   ]
  },
  {
   "cell_type": "code",
   "execution_count": null,
   "metadata": {},
   "outputs": [
    {
     "ename": "",
     "evalue": "",
     "output_type": "error",
     "traceback": [
      "\u001b[1;31mRunning cells with 'pyRAS' requires the ipykernel package.\n",
      "\u001b[1;31mRun the following command to install 'ipykernel' into the Python environment. \n",
      "\u001b[1;31mCommand: 'conda install -n pyRAS ipykernel --update-deps --force-reinstall'"
     ]
    }
   ],
   "source": [
    "eventList = []\n",
    "m = folium.Map([30.2, -90.3], zoom_start=8, tiles='cartodbdark_matter')\n",
    "coord_index_start = 0\n",
    "for i,v in enumerate(df['XS_Name']):\n",
    "    # pick style based on even or odd index\n",
    "    if (i % 2) == 0:\n",
    "        style = {\"color\": \"#228B22\", \"weight\": 5, \"opacity\": 0.65}\n",
    "    else:\n",
    "        # style = {'fillColor': '#00FFFFFF', 'color': '#00FFFFFF'}\n",
    "        style = {\"color\": \"#ff7800\", \"weight\": 5, \"opacity\": 0.65}\n",
    "    parts = hf['/Geometry/Cross Sections/Polyline Parts'][i,1]\n",
    "    # the index range of coordinates to pull based on the number of parts for each XS.\n",
    "    coord_index_end = coord_index_start + parts\n",
    "    coords_range = [coord_index_start, coord_index_end]\n",
    "    bounds = [hf['/Geometry/Cross Sections/Polyline Points'][coord_index_start:coord_index_end].tolist()][0]\n",
    "    # update start of range for next XS in loop.\n",
    "    coord_index_start =+ parts\n",
    "    line_geom = LineString(bounds)\n",
    "    line = gpd.GeoDataFrame(index=[0], geometry=[line_geom])\n",
    "    line.crs = 'PROJCS[\"USA_Contiguous_Albers_Equal_Area_Conic_USGS_version\",GEOGCS[\"GCS_North_American_1983\",DATUM[\"D_North_American_1983\",SPHEROID[\"GRS_1980\",6378137.0,298.257222101]],PRIMEM[\"Greenwich\",0.0],UNIT[\"Degree\",0.0174532925199433]],PROJECTION[\"Albers\"],PARAMETER[\"false_easting\",0.0],PARAMETER[\"false_northing\",0.0],PARAMETER[\"central_meridian\",-96.0],PARAMETER[\"standard_parallel_1\",29.5],PARAMETER[\"standard_parallel_2\",45.5],PARAMETER[\"latitude_of_origin\",23.0],UNIT[\"Foot_US\",0.3048006096012192]]'\n",
    "    folium.GeoJson(data=line, tooltip=v, style_function=lambda x:style).add_to(m)"
   ]
  },
  {
   "cell_type": "code",
   "execution_count": null,
   "metadata": {},
   "outputs": [
    {
     "ename": "",
     "evalue": "",
     "output_type": "error",
     "traceback": [
      "\u001b[1;31mRunning cells with 'pyRAS' requires the ipykernel package.\n",
      "\u001b[1;31mRun the following command to install 'ipykernel' into the Python environment. \n",
      "\u001b[1;31mCommand: 'conda install -n pyRAS ipykernel --update-deps --force-reinstall'"
     ]
    }
   ],
   "source": [
    "m.save('hdf_XS_map.html')"
   ]
  },
  {
   "cell_type": "code",
   "execution_count": null,
   "metadata": {},
   "outputs": [
    {
     "ename": "",
     "evalue": "",
     "output_type": "error",
     "traceback": [
      "\u001b[1;31mRunning cells with 'pyRAS' requires the ipykernel package.\n",
      "\u001b[1;31mRun the following command to install 'ipykernel' into the Python environment. \n",
      "\u001b[1;31mCommand: 'conda install -n pyRAS ipykernel --update-deps --force-reinstall'"
     ]
    }
   ],
   "source": [
    "i= 0\n",
    "coord_index_start = 0\n",
    "m = folium.Map([30.2, -90.3], zoom_start=8, tiles='cartodbdark_matter')\n",
    "style = {\"color\": \"#ff7800\", \"weight\": 5, \"opacity\": 0.65}\n",
    "\n",
    "v = df.XS_Name.iloc[i]\n",
    "parts = hf['/Geometry/Cross Sections/Polyline Parts'][0,1]\n",
    "coord_index_end = coord_index_start + parts\n",
    "# coords_range = [coord_index_start, (coord_index_end + 1)]\n",
    "bounds = [hf['/Geometry/Cross Sections/Polyline Points'][coord_index_start:coord_index_end].tolist()][0]\n",
    "\n",
    "line_geom = LineString(bounds)\n",
    "line = gpd.GeoDataFrame(index=[0], geometry=[line_geom])\n",
    "line.crs = 'PROJCS[\"USA_Contiguous_Albers_Equal_Area_Conic_USGS_version\",GEOGCS[\"GCS_North_American_1983\",DATUM[\"D_North_American_1983\",SPHEROID[\"GRS_1980\",6378137.0,298.257222101]],PRIMEM[\"Greenwich\",0.0],UNIT[\"Degree\",0.0174532925199433]],PROJECTION[\"Albers\"],PARAMETER[\"false_easting\",0.0],PARAMETER[\"false_northing\",0.0],PARAMETER[\"central_meridian\",-96.0],PARAMETER[\"standard_parallel_1\",29.5],PARAMETER[\"standard_parallel_2\",45.5],PARAMETER[\"latitude_of_origin\",23.0],UNIT[\"Foot_US\",0.3048006096012192]]'\n",
    "folium.GeoJson(data=line, tooltip=v, style_function=lambda x:style).add_to(m)\n",
    "# m"
   ]
  },
  {
   "cell_type": "code",
   "execution_count": null,
   "metadata": {},
   "outputs": [
    {
     "ename": "",
     "evalue": "",
     "output_type": "error",
     "traceback": [
      "\u001b[1;31mRunning cells with 'pyRAS' requires the ipykernel package.\n",
      "\u001b[1;31mRun the following command to install 'ipykernel' into the Python environment. \n",
      "\u001b[1;31mCommand: 'conda install -n pyRAS ipykernel --update-deps --force-reinstall'"
     ]
    }
   ],
   "source": [
    "# Draw as points\n",
    "geoList = []\n",
    "m = folium.Map([30.2, -90.3], zoom_start=8, tiles='cartodbdark_matter')\n",
    "style = {\"color\": \"#228B22\", \"weight\": 5, \"opacity\": 0.65}\n",
    "points = [hf['/Geometry/Cross Sections/Polyline Points'][:].tolist()][0]\n",
    "marker = folium.CircleMarker(\n",
    "                                radius = 3, # Radius in metres\n",
    "                                weight = 0, #outline weight\n",
    "                                fill_color = '#ff7800', \n",
    "                                fill_opacity = 1\n",
    "                            )\n",
    "for i,point_coords in enumerate(points):\n",
    "    point_geom = Point(point_coords)\n",
    "    point = gpd.GeoDataFrame(index=[0], geometry=[point_geom])\n",
    "    point.crs = 'PROJCS[\"USA_Contiguous_Albers_Equal_Area_Conic_USGS_version\",GEOGCS[\"GCS_North_American_1983\",DATUM[\"D_North_American_1983\",SPHEROID[\"GRS_1980\",6378137.0,298.257222101]],PRIMEM[\"Greenwich\",0.0],UNIT[\"Degree\",0.0174532925199433]],PROJECTION[\"Albers\"],PARAMETER[\"false_easting\",0.0],PARAMETER[\"false_northing\",0.0],PARAMETER[\"central_meridian\",-96.0],PARAMETER[\"standard_parallel_1\",29.5],PARAMETER[\"standard_parallel_2\",45.5],PARAMETER[\"latitude_of_origin\",23.0],UNIT[\"Foot_US\",0.3048006096012192]]'\n",
    "    # folium.GeoJson(data=point, tooltip=i, marker=marker).add_to(m)\n",
    "    geoList.append(folium.GeoJson(data=point, tooltip=i, marker=marker))"
   ]
  },
  {
   "cell_type": "code",
   "execution_count": null,
   "metadata": {},
   "outputs": [
    {
     "ename": "",
     "evalue": "",
     "output_type": "error",
     "traceback": [
      "\u001b[1;31mRunning cells with 'pyRAS' requires the ipykernel package.\n",
      "\u001b[1;31mRun the following command to install 'ipykernel' into the Python environment. \n",
      "\u001b[1;31mCommand: 'conda install -n pyRAS ipykernel --update-deps --force-reinstall'"
     ]
    }
   ],
   "source": [
    "geoList[1].data"
   ]
  },
  {
   "cell_type": "code",
   "execution_count": null,
   "metadata": {},
   "outputs": [
    {
     "ename": "",
     "evalue": "",
     "output_type": "error",
     "traceback": [
      "\u001b[1;31mRunning cells with 'pyRAS' requires the ipykernel package.\n",
      "\u001b[1;31mRun the following command to install 'ipykernel' into the Python environment. \n",
      "\u001b[1;31mCommand: 'conda install -n pyRAS ipykernel --update-deps --force-reinstall'"
     ]
    }
   ],
   "source": [
    "m.save('hdf_XS_map_points.html')"
   ]
  },
  {
   "cell_type": "code",
   "execution_count": null,
   "metadata": {},
   "outputs": [
    {
     "ename": "",
     "evalue": "",
     "output_type": "error",
     "traceback": [
      "\u001b[1;31mRunning cells with 'pyRAS' requires the ipykernel package.\n",
      "\u001b[1;31mRun the following command to install 'ipykernel' into the Python environment. \n",
      "\u001b[1;31mCommand: 'conda install -n pyRAS ipykernel --update-deps --force-reinstall'"
     ]
    }
   ],
   "source": [
    "hf.close()"
   ]
  }
 ],
 "metadata": {
  "kernelspec": {
   "display_name": "Python 3.9.7 ('xr39')",
   "language": "python",
   "name": "python3"
  },
  "language_info": {
   "codemirror_mode": {
    "name": "ipython",
    "version": 3
   },
   "file_extension": ".py",
   "mimetype": "text/x-python",
   "name": "python",
   "nbconvert_exporter": "python",
   "pygments_lexer": "ipython3",
   "version": "3.9.7"
  },
  "orig_nbformat": 4,
  "vscode": {
   "interpreter": {
    "hash": "56630e547aa29e0d41f7662d70f7d89cb5f9b8fa2e599dfc2d3aadbd013cfd7f"
   }
  }
 },
 "nbformat": 4,
 "nbformat_minor": 2
}
